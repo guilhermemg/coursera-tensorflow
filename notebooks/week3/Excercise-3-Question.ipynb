{
 "cells": [
  {
   "cell_type": "markdown",
   "metadata": {
    "colab_type": "text",
    "id": "iQjHqsmTAVLU"
   },
   "source": [
    "## Exercise 3\n",
    "In the videos you looked at how you would improve Fashion MNIST using Convolutions. For your exercise see if you can improve MNIST to 99.8% accuracy or more using only a single convolutional layer and a single MaxPooling 2D. You should stop training once the accuracy goes above this amount. It should happen in less than 20 epochs, so it's ok to hard code the number of epochs for training, but your training must end once it hits the above metric. If it doesn't, then you'll need to redesign your layers.\n",
    "\n",
    "I've started the code for you -- you need to finish it!\n",
    "\n",
    "When 99.8% accuracy has been hit, you should print out the string \"Reached 99.8% accuracy so cancelling training!\"\n"
   ]
  },
  {
   "cell_type": "code",
   "execution_count": 1,
   "metadata": {},
   "outputs": [
    {
     "name": "stdout",
     "output_type": "stream",
     "text": [
      "2.4.0\n"
     ]
    }
   ],
   "source": [
    "import tensorflow as tf\n",
    "from os import path, getcwd, chdir\n",
    "\n",
    "print(tf.__version__)\n",
    "\n",
    "# DO NOT CHANGE THE LINE BELOW. If you are developing in a local\n",
    "# environment, then grab mnist.npz from the Coursera Jupyter Notebook\n",
    "# and place it inside a local folder and edit the path to that location\n",
    "path = f\"{getcwd()}/../tmp2/mnist.npz\""
   ]
  },
  {
   "cell_type": "raw",
   "metadata": {
    "tags": []
   },
   "source": [
    "## restrict memory growth -------------------\n",
    "\n",
    "physical_devices = tf.config.list_physical_devices('GPU')\n",
    "try: \n",
    "    tf.config.experimental.set_memory_growth(physical_devices[0], True)\n",
    "except: \n",
    "    raise Exception(\"Invalid device or cannot modify virtual devices once initialized.\")\n",
    "\n",
    "## restrict memory growth -------------------  "
   ]
  },
  {
   "cell_type": "code",
   "execution_count": null,
   "metadata": {
    "collapsed": true,
    "jupyter": {
     "outputs_hidden": true
    },
    "tags": []
   },
   "outputs": [],
   "source": [
    "config = tf.ConfigProto()\n",
    "config.gpu_options.allow_growth = True\n",
    "sess = tf.Session(config=config)"
   ]
  },
  {
   "cell_type": "code",
   "execution_count": 17,
   "metadata": {},
   "outputs": [],
   "source": [
    "# GRADED FUNCTION: train_mnist_conv\n",
    "def train_mnist_conv():\n",
    "    # Please write your code only where you are indicated.\n",
    "    # please do not remove model fitting inline comments.\n",
    "\n",
    "    # YOUR CODE STARTS HERE\n",
    "    \n",
    "    class myCallback(tf.keras.callbacks.Callback):\n",
    "        def on_epoch_end(self, epoch, logs={}):\n",
    "            print(logs)\n",
    "            if logs.get('accuracy') > 0.998:\n",
    "                print(\"\\nReached 99.8% accuracy so cancelling training!\")\n",
    "                self.model.stop_training = True\n",
    "            if epoch+1 == 19:\n",
    "                print(\"\\nReached 19 epochs so cancelling training!\")\n",
    "                self.model.stop_training = True\n",
    "        \n",
    "    callbacks = myCallback()\n",
    "    \n",
    "    # YOUR CODE ENDS HERE\n",
    "\n",
    "    mnist = tf.keras.datasets.mnist\n",
    "    (training_images, training_labels), (test_images, test_labels) = mnist.load_data(path=path)\n",
    "    # YOUR CODE STARTS HERE\n",
    "\n",
    "    training_images=training_images.reshape(60000, 28, 28, 1)\n",
    "    training_images=training_images / 255.0\n",
    "    test_images = test_images.reshape(10000, 28, 28, 1)\n",
    "    test_images=test_images/255.0\n",
    "    \n",
    "    # YOUR CODE ENDS HERE\n",
    "\n",
    "    model = tf.keras.models.Sequential([\n",
    "           # YOUR CODE STARTS HERE\n",
    "        \n",
    "           tf.keras.layers.Conv2D(64, kernel_size=(3,3), activation='relu', input_shape=(28, 28, 1)),\n",
    "           tf.keras.layers.Conv2D(64, kernel_size=(3,3), activation='relu'),\n",
    "           tf.keras.layers.Conv2D(64, kernel_size=(3,3), activation='relu'),\n",
    "           tf.keras.layers.MaxPooling2D(2,2),\n",
    "           tf.keras.layers.Flatten(),\n",
    "           tf.keras.layers.Dense(128, activation='relu'),\n",
    "           tf.keras.layers.Dense(10, activation='softmax')\n",
    "        \n",
    "           # YOUR CODE ENDS HERE\n",
    "    ])\n",
    "    \n",
    "    print(model.summary())\n",
    "\n",
    "    model.compile(optimizer='adam', loss='sparse_categorical_crossentropy', metrics=['accuracy'])\n",
    "    \n",
    "    # model fitting\n",
    "    history = model.fit(\n",
    "        # YOUR CODE STARTS HERE\n",
    "        training_images, training_labels, epochs=25, callbacks=[callbacks]\n",
    "        # YOUR CODE ENDS HERE\n",
    "    )\n",
    "    \n",
    "    # model fitting\n",
    "    return history.epoch, history.history['accuracy'][-1]\n",
    "\n"
   ]
  },
  {
   "cell_type": "code",
   "execution_count": 18,
   "metadata": {},
   "outputs": [
    {
     "name": "stdout",
     "output_type": "stream",
     "text": [
      "Model: \"sequential_7\"\n",
      "_________________________________________________________________\n",
      "Layer (type)                 Output Shape              Param #   \n",
      "=================================================================\n",
      "conv2d_22 (Conv2D)           (None, 26, 26, 64)        640       \n",
      "_________________________________________________________________\n",
      "conv2d_23 (Conv2D)           (None, 24, 24, 64)        36928     \n",
      "_________________________________________________________________\n",
      "conv2d_24 (Conv2D)           (None, 22, 22, 64)        36928     \n",
      "_________________________________________________________________\n",
      "max_pooling2d_19 (MaxPooling (None, 11, 11, 64)        0         \n",
      "_________________________________________________________________\n",
      "flatten_7 (Flatten)          (None, 7744)              0         \n",
      "_________________________________________________________________\n",
      "dense_14 (Dense)             (None, 128)               991360    \n",
      "_________________________________________________________________\n",
      "dense_15 (Dense)             (None, 10)                1290      \n",
      "=================================================================\n",
      "Total params: 1,067,146\n",
      "Trainable params: 1,067,146\n",
      "Non-trainable params: 0\n",
      "_________________________________________________________________\n",
      "None\n",
      "Epoch 1/25\n",
      "1875/1875 [==============================] - 5s 3ms/step - loss: 0.2251 - accuracy: 0.9279\n",
      "{'loss': 0.10459017753601074, 'accuracy': 0.9678500294685364}\n",
      "Epoch 2/25\n",
      "1875/1875 [==============================] - 5s 3ms/step - loss: 0.0380 - accuracy: 0.9884\n",
      "{'loss': 0.036559849977493286, 'accuracy': 0.9891166687011719}\n",
      "Epoch 3/25\n",
      "1875/1875 [==============================] - 5s 3ms/step - loss: 0.0216 - accuracy: 0.9936\n",
      "{'loss': 0.02456880919635296, 'accuracy': 0.9923499822616577}\n",
      "Epoch 4/25\n",
      "1875/1875 [==============================] - 5s 3ms/step - loss: 0.0154 - accuracy: 0.9951\n",
      "{'loss': 0.016637366265058517, 'accuracy': 0.9948499798774719}\n",
      "Epoch 5/25\n",
      "1875/1875 [==============================] - 5s 3ms/step - loss: 0.0116 - accuracy: 0.9966\n",
      "{'loss': 0.012684186920523643, 'accuracy': 0.9961333274841309}\n",
      "Epoch 6/25\n",
      "1875/1875 [==============================] - 5s 3ms/step - loss: 0.0087 - accuracy: 0.9975\n",
      "{'loss': 0.010588197037577629, 'accuracy': 0.9968000054359436}\n",
      "Epoch 7/25\n",
      "1875/1875 [==============================] - 5s 3ms/step - loss: 0.0066 - accuracy: 0.9978\n",
      "{'loss': 0.007793561089783907, 'accuracy': 0.9973999857902527}\n",
      "Epoch 8/25\n",
      "1875/1875 [==============================] - 5s 3ms/step - loss: 0.0058 - accuracy: 0.9981\n",
      "{'loss': 0.007311244495213032, 'accuracy': 0.9976000189781189}\n",
      "Epoch 9/25\n",
      "1875/1875 [==============================] - 5s 3ms/step - loss: 0.0052 - accuracy: 0.9981\n",
      "{'loss': 0.00637852493673563, 'accuracy': 0.9976999759674072}\n",
      "Epoch 10/25\n",
      "1875/1875 [==============================] - 5s 3ms/step - loss: 0.0055 - accuracy: 0.9983\n",
      "{'loss': 0.005901884753257036, 'accuracy': 0.998199999332428}\n",
      "\n",
      "Reached 99.8% accuracy so cancelling training!\n"
     ]
    }
   ],
   "source": [
    "_, _ = train_mnist_conv()"
   ]
  },
  {
   "cell_type": "code",
   "execution_count": null,
   "metadata": {},
   "outputs": [],
   "source": [
    "# Now click the 'Submit Assignment' button above.\n",
    "# Once that is complete, please run the following two cells to save your work and close the notebook"
   ]
  },
  {
   "cell_type": "code",
   "execution_count": null,
   "metadata": {},
   "outputs": [],
   "source": [
    "%%javascript\n",
    "<!-- Save the notebook -->\n",
    "IPython.notebook.save_checkpoint();"
   ]
  },
  {
   "cell_type": "code",
   "execution_count": null,
   "metadata": {},
   "outputs": [],
   "source": [
    "%%javascript\n",
    "IPython.notebook.session.delete();\n",
    "window.onbeforeunload = null\n",
    "setTimeout(function() { window.close(); }, 1000);"
   ]
  }
 ],
 "metadata": {
  "coursera": {
   "course_slug": "introduction-tensorflow",
   "graded_item_id": "ml06H",
   "launcher_item_id": "hQF8A"
  },
  "kernelspec": {
   "display_name": "Python 3",
   "language": "python",
   "name": "python3"
  },
  "language_info": {
   "codemirror_mode": {
    "name": "ipython",
    "version": 3
   },
   "file_extension": ".py",
   "mimetype": "text/x-python",
   "name": "python",
   "nbconvert_exporter": "python",
   "pygments_lexer": "ipython3",
   "version": "3.8.8"
  }
 },
 "nbformat": 4,
 "nbformat_minor": 4
}
